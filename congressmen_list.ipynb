{
 "cells": [
  {
   "cell_type": "code",
   "execution_count": 1,
   "id": "e1d9664b",
   "metadata": {},
   "outputs": [],
   "source": [
    "#파이썬으로 국회홈페이지에 접속하여 국회의원 명단 불러오기"
   ]
  },
  {
   "cell_type": "code",
   "execution_count": 3,
   "id": "16aeb77c",
   "metadata": {},
   "outputs": [],
   "source": [
    "import requests\n",
    "from bs4 import BeautifulSoup"
   ]
  },
  {
   "cell_type": "code",
   "execution_count": 4,
   "id": "8bd4c7e5",
   "metadata": {},
   "outputs": [],
   "source": [
    "url = 'http://www.assembly.go.kr/assm/memact/congressman/memCond/memCondListAjax.do'"
   ]
  },
  {
   "cell_type": "code",
   "execution_count": 5,
   "id": "9db36a63",
   "metadata": {},
   "outputs": [],
   "source": [
    "params ={'currentPage': 1, 'rowPerpage' :300}\n"
   ]
  },
  {
   "cell_type": "code",
   "execution_count": 6,
   "id": "04072614",
   "metadata": {},
   "outputs": [],
   "source": [
    "html =requests.get(url, params=params).text"
   ]
  },
  {
   "cell_type": "code",
   "execution_count": 7,
   "id": "c8b512cc",
   "metadata": {},
   "outputs": [],
   "source": [
    "soup = BeautifulSoup(html, 'html.parser')"
   ]
  },
  {
   "cell_type": "code",
   "execution_count": null,
   "id": "2540a861",
   "metadata": {},
   "outputs": [],
   "source": []
  },
  {
   "cell_type": "code",
   "execution_count": 17,
   "id": "ec6fb7f3",
   "metadata": {
    "scrolled": true
   },
   "outputs": [
    {
     "name": "stdout",
     "output_type": "stream",
     "text": [
      "[1] <a href=\"javascript:jsMemPop('9771230')\" title=\"강기윤의원정보 새창에서 열림\">강기윤</a>\n",
      "[2] <a href=\"javascript:jsMemPop('9771142')\" title=\"강대식의원정보 새창에서 열림\">강대식</a>\n",
      "[3] <a href=\"javascript:jsMemPop('9771174')\" title=\"강득구의원정보 새창에서 열림\">강득구</a>\n",
      "[4] <a href=\"javascript:jsMemPop('9771233')\" title=\"강민국의원정보 새창에서 열림\">강민국</a>\n",
      "[5] <a href=\"javascript:jsMemPop('9771283')\" title=\"강민정의원정보 새창에서 열림\">강민정</a>\n",
      "[6] <a href=\"javascript:jsMemPop('9770933')\" title=\"강병원의원정보 새창에서 열림\">강병원</a>\n"
     ]
    }
   ],
   "source": [
    "for idx, tag in enumerate(soup.select('a[href*=jsMemPop]'), 1):\n",
    "#     print('[{}] {}'.format(idx,tag,text))    #예제는 이렇게 코딩이 되어있는데 text가 define되지 않았다는 에러메시지가 뜸. \n",
    "                                               #text를 삭제하면 다음과 같이 데이터를 불러옴\n",
    "    print('[{}] {}'.format(idx,tag))"
   ]
  },
  {
   "cell_type": "code",
   "execution_count": null,
   "id": "c9eab70c",
   "metadata": {},
   "outputs": [],
   "source": []
  }
 ],
 "metadata": {
  "kernelspec": {
   "display_name": "Python 3 (ipykernel)",
   "language": "python",
   "name": "python3"
  },
  "language_info": {
   "codemirror_mode": {
    "name": "ipython",
    "version": 3
   },
   "file_extension": ".py",
   "mimetype": "text/x-python",
   "name": "python",
   "nbconvert_exporter": "python",
   "pygments_lexer": "ipython3",
   "version": "3.9.7"
  }
 },
 "nbformat": 4,
 "nbformat_minor": 5
}
